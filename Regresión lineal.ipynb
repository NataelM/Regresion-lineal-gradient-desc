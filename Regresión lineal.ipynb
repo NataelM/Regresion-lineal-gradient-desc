{
 "cells": [
  {
   "cell_type": "markdown",
   "source": [
    "# Regresión lineal"
   ],
   "metadata": {}
  },
  {
   "cell_type": "markdown",
   "source": [
    "La regresión lineal es un modelo de Machine learning supervisado, es decir, se necesita tener la variable objetivo señalada en el dataset para poder aplicar el algoritmo. Este modelo es de los más usados por su simplicidad de aplciación, ejecución y entendimiento, dentro de los puntos negativos que tiene el modelo es que necesita cumplir demasiadas hipótesis para asegurar que los resultados son de utilidad."
   ],
   "metadata": {}
  },
  {
   "cell_type": "code",
   "execution_count": 1,
   "source": [
    "#librerías básicas a utilizar\r\n",
    "import pandas as pd\r\n",
    "import numpy as np\r\n",
    "import matplotlib.pyplot as plt"
   ],
   "outputs": [],
   "metadata": {}
  },
  {
   "cell_type": "markdown",
   "source": [
    "## Modelo"
   ],
   "metadata": {}
  },
  {
   "cell_type": "markdown",
   "source": [
    "$$ \\hat Y = \\beta_0 + \\beta_1 X $$"
   ],
   "metadata": {}
  },
  {
   "cell_type": "markdown",
   "source": [
    "Donde $\\beta_0 $ y $\\beta_1 $ son los coeficientes de regresión (variables a calcular), y $ X $ es la variable regresora. El producto de la función anterior da como resultado una predicción a lo que se tenga como objeto de estudio."
   ],
   "metadata": {}
  },
  {
   "cell_type": "code",
   "execution_count": 2,
   "source": [
    "model = lambda b_0, b_1, x: b_0 + (b_1 * x) "
   ],
   "outputs": [],
   "metadata": {}
  },
  {
   "cell_type": "markdown",
   "source": [
    "## Error cuadrático medio"
   ],
   "metadata": {}
  },
  {
   "cell_type": "markdown",
   "source": [
    "$$ ECM = \\frac{1}{N} \\sum_{i = 0} ^{N} ( y_i - \\hat y_i )^2 $$ "
   ],
   "metadata": {}
  },
  {
   "cell_type": "code",
   "execution_count": 3,
   "source": [
    "def e_c_m(y, y_hat):\r\n",
    "    '''\r\n",
    "    inputs:\r\n",
    "        y, y_hat :iterable operable con numpy\r\n",
    "    \r\n",
    "    outputs:\r\n",
    "        error -> valor float\r\n",
    "    \r\n",
    "    '''\r\n",
    "    N = y.shape[0]\r\n",
    "    error = np.sum((y - y_hat)**2) / N\r\n",
    "    return error"
   ],
   "outputs": [],
   "metadata": {}
  },
  {
   "cell_type": "markdown",
   "source": [
    "## Descenso del gradiente"
   ],
   "metadata": {}
  },
  {
   "cell_type": "markdown",
   "source": [
    "El agoritmo del descenso del gradiente nos permite Actualizar los valores de $ \\beta_0, \\beta_1 $, esto toma sentido pues al conjunto de datos que se aplicará el descenso del gradienre es al EMC, pues al ser una función polinómica de grado 2 podemos encontrar el minimo por medio de la derivada."
   ],
   "metadata": {}
  },
  {
   "cell_type": "code",
   "execution_count": 4,
   "source": [
    "def gradient_desc(b_0, b_1, alpha, x, y):\r\n",
    "    '''\r\n",
    "    inputs:\r\n",
    "        b_0, b1: valores float\r\n",
    "        alpha: float\r\n",
    "        x,y: iterables\r\n",
    "    outputs:\r\n",
    "        b0, b1: valores float\r\n",
    "    \r\n",
    "    '''\r\n",
    "    N = x.shape[0]      # Cantidad de datos\r\n",
    "\r\n",
    "    # Gradientes: derivadas de la función de error con respecto\r\n",
    "    # a los parámetros \"b_0\" y \"b_1\"\r\n",
    "    db_0 = -(2/N)*np.sum(x * (y - (b_0 * x + b_1)) )\r\n",
    "    db_1 = -(2/N)*np.sum(y - (b_0 * x + b_1) )\r\n",
    "\r\n",
    "    # Actualizar los pesos usando la fórmula del descenso del gradiente\r\n",
    "    b0 = b_0 - alpha*db_0\r\n",
    "    b1 = b_1 - alpha*db_1\r\n",
    "\r\n",
    "    return b0, b1"
   ],
   "outputs": [],
   "metadata": {}
  },
  {
   "cell_type": "markdown",
   "source": [
    "## Importación de datos"
   ],
   "metadata": {}
  },
  {
   "cell_type": "code",
   "execution_count": 5,
   "source": [
    "# datos = pd.read_csv('Salary_Data.csv')\r\n",
    "\r\n",
    "# x = datos['YearsExperience'].values\r\n",
    "# y = datos['Salary'].values / 10_000"
   ],
   "outputs": [],
   "metadata": {}
  },
  {
   "cell_type": "code",
   "execution_count": 6,
   "source": [
    "datos = pd.read_csv('insurance.csv')\r\n",
    "\r\n",
    "x = datos['bmi'].values\r\n",
    "y = datos['charges'].values"
   ],
   "outputs": [],
   "metadata": {}
  },
  {
   "cell_type": "code",
   "execution_count": 7,
   "source": [
    "max(y), min(y)"
   ],
   "outputs": [
    {
     "output_type": "execute_result",
     "data": {
      "text/plain": [
       "(63770.42801, 1121.8739)"
      ]
     },
     "metadata": {},
     "execution_count": 7
    }
   ],
   "metadata": {}
  },
  {
   "cell_type": "code",
   "execution_count": 8,
   "source": [
    "#parametros de inicialización de la regresión lineal, dos puntos aleatorios\r\n",
    "np.random.seed(2204)\r\n",
    "b_0 = np.random.randn(1)[0]\r\n",
    "b_1 = np.random.randn(1)[0]\r\n",
    "b_0, b_1"
   ],
   "outputs": [
    {
     "output_type": "execute_result",
     "data": {
      "text/plain": [
       "(0.20127124220122578, -0.5514389786038747)"
      ]
     },
     "metadata": {},
     "execution_count": 8
    }
   ],
   "metadata": {}
  },
  {
   "cell_type": "code",
   "execution_count": 9,
   "source": [
    "# valores para el descenso del gradiente\r\n",
    "alpha = 0.0005\r\n",
    "iters = 50_000"
   ],
   "outputs": [],
   "metadata": {}
  },
  {
   "cell_type": "code",
   "execution_count": 10,
   "source": [
    "#arreglo de ceros del tamaño del numero de iteraciones\r\n",
    "error = np.zeros((iters,1))"
   ],
   "outputs": [],
   "metadata": {}
  },
  {
   "cell_type": "code",
   "execution_count": 11,
   "source": [
    "for i in range(iters):\r\n",
    "    # Actualizar valor de los pesos usando el gradiente descendente\r\n",
    "    [b_0, b_1] = gradient_desc(b_0 , b_1, alpha, x, y)\r\n",
    "\r\n",
    "    # Calcular el valor de la predicción\r\n",
    "    y_hat = model(b_0, b_1, x)\r\n",
    "\r\n",
    "    # Actualizar el valor del error\r\n",
    "    error[i] = e_c_m(y, y_hat)\r\n",
    "\r\n",
    "    # Imprimir resultados cada 1000 epochs o iteraciones \r\n",
    "    if (i + 1) % 1000 == 0:\r\n",
    "        print(\"Epoch {}\".format(i + 1))\r\n",
    "        print(\" beta_0 : {:.1f}\".format(b_0), \"\\n beta_1 : {:.1f}\".format(b_1))\r\n",
    "        print(\" error: {}\".format(error[i]))\r\n",
    "        print(\"=======================================\")"
   ],
   "outputs": [
    {
     "output_type": "stream",
     "name": "stdout",
     "text": [
      "Epoch 1000\n",
      " beta_0 : 429.5 \n",
      " beta_1 : 56.9\n",
      " error: [2.68094856e+08]\n",
      "=======================================\n",
      "Epoch 2000\n",
      " beta_0 : 428.2 \n",
      " beta_1 : 99.3\n",
      " error: [2.40004557e+08]\n",
      "=======================================\n",
      "Epoch 3000\n",
      " beta_0 : 426.9 \n",
      " beta_1 : 140.0\n",
      " error: [2.16265364e+08]\n",
      "=======================================\n",
      "Epoch 4000\n",
      " beta_0 : 425.7 \n",
      " beta_1 : 179.3\n",
      " error: [1.96473406e+08]\n",
      "=======================================\n",
      "Epoch 5000\n",
      " beta_0 : 424.5 \n",
      " beta_1 : 217.1\n",
      " error: [1.80257545e+08]\n",
      "=======================================\n",
      "Epoch 6000\n",
      " beta_0 : 423.3 \n",
      " beta_1 : 253.4\n",
      " error: [1.67276862e+08]\n",
      "=======================================\n",
      "Epoch 7000\n",
      " beta_0 : 422.3 \n",
      " beta_1 : 288.4\n",
      " error: [1.57218335e+08]\n",
      "=======================================\n",
      "Epoch 8000\n",
      " beta_0 : 421.2 \n",
      " beta_1 : 322.2\n",
      " error: [1.49794684e+08]\n",
      "=======================================\n",
      "Epoch 9000\n",
      " beta_0 : 420.2 \n",
      " beta_1 : 354.6\n",
      " error: [1.44742386e+08]\n",
      "=======================================\n",
      "Epoch 10000\n",
      " beta_0 : 419.2 \n",
      " beta_1 : 385.9\n",
      " error: [1.41819831e+08]\n",
      "=======================================\n",
      "Epoch 11000\n",
      " beta_0 : 418.3 \n",
      " beta_1 : 415.9\n",
      " error: [1.40805625e+08]\n",
      "=======================================\n",
      "Epoch 12000\n",
      " beta_0 : 417.3 \n",
      " beta_1 : 444.9\n",
      " error: [1.41497012e+08]\n",
      "=======================================\n",
      "Epoch 13000\n",
      " beta_0 : 416.5 \n",
      " beta_1 : 472.8\n",
      " error: [1.43708423e+08]\n",
      "=======================================\n",
      "Epoch 14000\n",
      " beta_0 : 415.6 \n",
      " beta_1 : 499.6\n",
      " error: [1.4727013e+08]\n",
      "=======================================\n",
      "Epoch 15000\n",
      " beta_0 : 414.8 \n",
      " beta_1 : 525.5\n",
      " error: [1.52027002e+08]\n",
      "=======================================\n",
      "Epoch 16000\n",
      " beta_0 : 414.0 \n",
      " beta_1 : 550.3\n",
      " error: [1.57837356e+08]\n",
      "=======================================\n",
      "Epoch 17000\n",
      " beta_0 : 413.3 \n",
      " beta_1 : 574.3\n",
      " error: [1.64571896e+08]\n",
      "=======================================\n",
      "Epoch 18000\n",
      " beta_0 : 412.6 \n",
      " beta_1 : 597.3\n",
      " error: [1.72112731e+08]\n",
      "=======================================\n",
      "Epoch 19000\n",
      " beta_0 : 411.9 \n",
      " beta_1 : 619.5\n",
      " error: [1.80352468e+08]\n",
      "=======================================\n",
      "Epoch 20000\n",
      " beta_0 : 411.2 \n",
      " beta_1 : 640.9\n",
      " error: [1.89193373e+08]\n",
      "=======================================\n",
      "Epoch 21000\n",
      " beta_0 : 410.5 \n",
      " beta_1 : 661.5\n",
      " error: [1.98546601e+08]\n",
      "=======================================\n",
      "Epoch 22000\n",
      " beta_0 : 409.9 \n",
      " beta_1 : 681.3\n",
      " error: [2.08331476e+08]\n",
      "=======================================\n",
      "Epoch 23000\n",
      " beta_0 : 409.3 \n",
      " beta_1 : 700.4\n",
      " error: [2.18474834e+08]\n",
      "=======================================\n",
      "Epoch 24000\n",
      " beta_0 : 408.8 \n",
      " beta_1 : 718.7\n",
      " error: [2.28910415e+08]\n",
      "=======================================\n",
      "Epoch 25000\n",
      " beta_0 : 408.2 \n",
      " beta_1 : 736.4\n",
      " error: [2.39578295e+08]\n",
      "=======================================\n",
      "Epoch 26000\n",
      " beta_0 : 407.7 \n",
      " beta_1 : 753.4\n",
      " error: [2.50424374e+08]\n",
      "=======================================\n",
      "Epoch 27000\n",
      " beta_0 : 407.1 \n",
      " beta_1 : 769.8\n",
      " error: [2.61399889e+08]\n",
      "=======================================\n",
      "Epoch 28000\n",
      " beta_0 : 406.7 \n",
      " beta_1 : 785.6\n",
      " error: [2.72460977e+08]\n",
      "=======================================\n",
      "Epoch 29000\n",
      " beta_0 : 406.2 \n",
      " beta_1 : 800.7\n",
      " error: [2.83568266e+08]\n",
      "=======================================\n",
      "Epoch 30000\n",
      " beta_0 : 405.7 \n",
      " beta_1 : 815.4\n",
      " error: [2.94686498e+08]\n",
      "=======================================\n",
      "Epoch 31000\n",
      " beta_0 : 405.3 \n",
      " beta_1 : 829.4\n",
      " error: [3.05784182e+08]\n",
      "=======================================\n",
      "Epoch 32000\n",
      " beta_0 : 404.9 \n",
      " beta_1 : 843.0\n",
      " error: [3.16833275e+08]\n",
      "=======================================\n",
      "Epoch 33000\n",
      " beta_0 : 404.4 \n",
      " beta_1 : 856.0\n",
      " error: [3.27808885e+08]\n",
      "=======================================\n",
      "Epoch 34000\n",
      " beta_0 : 404.0 \n",
      " beta_1 : 868.6\n",
      " error: [3.38689003e+08]\n",
      "=======================================\n",
      "Epoch 35000\n",
      " beta_0 : 403.7 \n",
      " beta_1 : 880.7\n",
      " error: [3.4945425e+08]\n",
      "=======================================\n",
      "Epoch 36000\n",
      " beta_0 : 403.3 \n",
      " beta_1 : 892.3\n",
      " error: [3.60087646e+08]\n",
      "=======================================\n",
      "Epoch 37000\n",
      " beta_0 : 403.0 \n",
      " beta_1 : 903.5\n",
      " error: [3.70574401e+08]\n",
      "=======================================\n",
      "Epoch 38000\n",
      " beta_0 : 402.6 \n",
      " beta_1 : 914.3\n",
      " error: [3.80901717e+08]\n",
      "=======================================\n",
      "Epoch 39000\n",
      " beta_0 : 402.3 \n",
      " beta_1 : 924.7\n",
      " error: [3.91058609e+08]\n",
      "=======================================\n",
      "Epoch 40000\n",
      " beta_0 : 402.0 \n",
      " beta_1 : 934.7\n",
      " error: [4.01035738e+08]\n",
      "=======================================\n",
      "Epoch 41000\n",
      " beta_0 : 401.7 \n",
      " beta_1 : 944.3\n",
      " error: [4.10825263e+08]\n",
      "=======================================\n",
      "Epoch 42000\n",
      " beta_0 : 401.4 \n",
      " beta_1 : 953.6\n",
      " error: [4.20420699e+08]\n",
      "=======================================\n",
      "Epoch 43000\n",
      " beta_0 : 401.1 \n",
      " beta_1 : 962.5\n",
      " error: [4.29816787e+08]\n",
      "=======================================\n",
      "Epoch 44000\n",
      " beta_0 : 400.8 \n",
      " beta_1 : 971.1\n",
      " error: [4.39009378e+08]\n",
      "=======================================\n",
      "Epoch 45000\n",
      " beta_0 : 400.6 \n",
      " beta_1 : 979.4\n",
      " error: [4.47995327e+08]\n",
      "=======================================\n",
      "Epoch 46000\n",
      " beta_0 : 400.3 \n",
      " beta_1 : 987.3\n",
      " error: [4.56772388e+08]\n",
      "=======================================\n",
      "Epoch 47000\n",
      " beta_0 : 400.1 \n",
      " beta_1 : 995.0\n",
      " error: [4.65339128e+08]\n",
      "=======================================\n",
      "Epoch 48000\n",
      " beta_0 : 399.9 \n",
      " beta_1 : 1002.4\n",
      " error: [4.73694842e+08]\n",
      "=======================================\n",
      "Epoch 49000\n",
      " beta_0 : 399.6 \n",
      " beta_1 : 1009.5\n",
      " error: [4.81839475e+08]\n",
      "=======================================\n",
      "Epoch 50000\n",
      " beta_0 : 399.4 \n",
      " beta_1 : 1016.3\n",
      " error: [4.89773555e+08]\n",
      "=======================================\n"
     ]
    }
   ],
   "metadata": {}
  },
  {
   "cell_type": "markdown",
   "source": [
    "## Gráfico del error "
   ],
   "metadata": {}
  },
  {
   "cell_type": "code",
   "execution_count": 12,
   "source": [
    "plt.plot(range(iters), error)\r\n",
    "plt.xlabel('epoch')\r\n",
    "plt.ylabel('ECM')\r\n",
    "plt.show()"
   ],
   "outputs": [
    {
     "output_type": "display_data",
     "data": {
      "image/png": "[encoded data removed]",
      "text/plain": [
       "<matplotlib.figure.Figure at 0x85a3ab0>"
      ]
     },
     "metadata": {}
    }
   ],
   "metadata": {}
  },
  {
   "cell_type": "markdown",
   "source": [
    "## gráfica de la regresión"
   ],
   "metadata": {}
  },
  {
   "cell_type": "code",
   "execution_count": 13,
   "source": [
    "y_preds = model(b_0 ,b_1 ,x)\r\n",
    "plt.scatter(x, y)\r\n",
    "plt.plot(x , y_preds,'r')\r\n",
    "plt.xlabel('BMI')\r\n",
    "plt.ylabel('CHARGES')\r\n",
    "plt.show()"
   ],
   "outputs": [
    {
     "output_type": "display_data",
     "data": {
      "image/png": "[encoded data removed]",
      "text/plain": [
       "<matplotlib.figure.Figure at 0x85e3870>"
      ]
     },
     "metadata": {}
    }
   ],
   "metadata": {}
  },
  {
   "cell_type": "markdown",
   "source": [
    "elaborado por: Jonathan Ramirez"
   ],
   "metadata": {}
  }
 ],
 "metadata": {
  "kernelspec": {
   "display_name": "Python 3",
   "language": "python",
   "name": "python3"
  },
  "language_info": {
   "codemirror_mode": {
    "name": "ipython",
    "version": 3
   },
   "file_extension": ".py",
   "mimetype": "text/x-python",
   "name": "python",
   "nbconvert_exporter": "python",
   "pygments_lexer": "ipython3",
   "version": "3.6.4"
  }
 },
 "nbformat": 4,
 "nbformat_minor": 2
}